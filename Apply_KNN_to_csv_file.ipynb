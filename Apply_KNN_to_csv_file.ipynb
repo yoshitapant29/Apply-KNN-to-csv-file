{
  "nbformat": 4,
  "nbformat_minor": 0,
  "metadata": {
    "colab": {
      "provenance": [],
      "authorship_tag": "ABX9TyPCIT3+Q59GqttcRPexO4gT",
      "include_colab_link": true
    },
    "kernelspec": {
      "name": "python3",
      "display_name": "Python 3"
    },
    "language_info": {
      "name": "python"
    }
  },
  "cells": [
    {
      "cell_type": "markdown",
      "metadata": {
        "id": "view-in-github",
        "colab_type": "text"
      },
      "source": [
        "<a href=\"https://colab.research.google.com/github/yoshitapant29/Apply-KNN-to-csv-file/blob/main/Apply_KNN_to_csv_file.ipynb\" target=\"_parent\"><img src=\"https://colab.research.google.com/assets/colab-badge.svg\" alt=\"Open In Colab\"/></a>"
      ]
    },
    {
      "cell_type": "code",
      "execution_count": 3,
      "metadata": {
        "colab": {
          "base_uri": "https://localhost:8080/"
        },
        "id": "FTDs9Ur2p8Ew",
        "outputId": "1482de0e-4e44-4fc6-f90b-6812c8d26465"
      },
      "outputs": [
        {
          "output_type": "stream",
          "name": "stdout",
          "text": [
            "selected car: gas\n",
            "145 | gas | 1.083263078127672e-07\n",
            "74 | gas | 9.19440552916706e-05\n",
            "72 | gas | 9.272908613144892e-05\n",
            "48 | gas | 9.326099925199838e-05\n",
            "49 | gas | 9.326099925199838e-05\n",
            "18 | gas | 9.433339837394694e-05\n",
            "201 | gas | 9.477162886983859e-05\n",
            "203 | gas | 9.477162886983859e-05\n",
            "108 | gas | 9.578182028302518e-05\n",
            "112 | gas | 9.578182028302518e-05\n"
          ]
        }
      ],
      "source": [
        "#!usr/local/bin/python3\n",
        "\n",
        "import operator\n",
        "import pandas as pd\n",
        "import numpy as np\n",
        "from scipy import spatial\n",
        "\n",
        "def ComputeDistance(a, b):\n",
        "    dataA = a[1]\n",
        "    dataB = b[1]\n",
        "\n",
        "    AttributeDistance = spatial.distance.cosine(dataA, dataB)\n",
        "\n",
        "    return AttributeDistance\n",
        "\n",
        "def getNeighbors(carID, K):\n",
        "\n",
        "    distances = []\n",
        "    for car in carDict:\n",
        "        if (car != carID):\n",
        "            dist = ComputeDistance(carDict[carID], carDict[car])\n",
        "            distances.append((car, dist))\n",
        "    distances.sort(key=operator.itemgetter(1))\n",
        "\n",
        "    neighbors = []\n",
        "    for x in range(K):\n",
        "        neighbors.append((distances[x][0], distances[x][1]))\n",
        "\n",
        "    return neighbors\n",
        "\n",
        "# load dataset CSV file\n",
        "pd_df = pd.read_csv('data.csv')\n",
        "\n",
        "# dataframe for entity name and ID\n",
        "pd_df0 = pd_df.iloc[:, [0, 2]]\n",
        "\n",
        "# dataframe for attributes\n",
        "pd_df1 = pd_df.iloc[:, [3, 4, 5, 6, 7, 8]]\n",
        "\n",
        "# convert to 0s and 1s based on the attribute values\n",
        "pd_df1 = pd.get_dummies(pd_df1)\n",
        "\n",
        "# merge pd_df0 and pd_df1 dataframes\n",
        "pd_df2 = pd.concat([pd_df0, pd_df1], axis=1, sort=False)\n",
        "\n",
        "df_array = pd_df2.to_numpy()\n",
        "\n",
        "\n",
        "carDict = {}\n",
        "\n",
        "for d in df_array:\n",
        "    carID = int(d[0])\n",
        "    name = d[1]\n",
        "    attributes = d[2:]\n",
        "    attributes = map(int, attributes)\n",
        "    carDict[carID] = (name, np.array(list(attributes)))\n",
        "\n",
        "K = 10\n",
        "\n",
        "\n",
        "selectedID = 5\n",
        "\n",
        "print(\"selected car:\", carDict[selectedID][0])\n",
        "\n",
        "neighbors = getNeighbors(selectedID, K)\n",
        "\n",
        "for neighbor in neighbors:\n",
        "    print(str(neighbor[0]) + \" | \" + carDict[neighbor[0]][0] + \" | \" + str(neighbor[1]))"
      ]
    }
  ]
}